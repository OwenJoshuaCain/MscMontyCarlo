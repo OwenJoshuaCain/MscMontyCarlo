{
 "cells": [
  {
   "cell_type": "markdown",
   "metadata": {},
   "source": [
    "# Monte Carlo Methods\n"
   ]
  },
  {
   "cell_type": "code",
   "execution_count": 3,
   "metadata": {},
   "outputs": [],
   "source": [
    "import numpy as np"
   ]
  },
  {
   "cell_type": "markdown",
   "metadata": {},
   "source": [
    "$$\\int_0^1 \\int_0^1 \\frac{1}{1 + \\sin{(x)}^2 + \\sin{(y)}^2} \\,dx \\,dy$$"
   ]
  },
  {
   "cell_type": "code",
   "execution_count": 16,
   "metadata": {},
   "outputs": [],
   "source": [
    "import numpy as np\n",
    "\n",
    "def func(x,y):\n",
    "    #The function is 1/(1+(sine(x)^2)+cos(x)^2)\n",
    "    return 1 / (1 + np.power(np.sin(x),2) + np.power(np.sin(y),2) ) \n",
    "\n",
    "def montycarlo_integration(func, a, b, n=1000):\n",
    "    #Monty Carlo Integration of the given function over the domain a to b for each parameter\n",
    "    #Here the dimension is 2\n",
    "    \n",
    "    x_list = np.random.uniform(a, b, n)\n",
    "    y_list = np.random.uniform(a, b, n)\n",
    "    f = func(x_list,y_list)\n",
    "    \n",
    "    f_mean=np.sum(f) / len(f)\n",
    "    domain = b-a\n",
    "    \n",
    "    integ = domain * f_mean\n",
    "    \n",
    "    return integ"
   ]
  },
  {
   "cell_type": "code",
   "execution_count": 17,
   "metadata": {},
   "outputs": [
    {
     "data": {
      "text/plain": [
       "0.6729681830916154"
      ]
     },
     "execution_count": 17,
     "metadata": {},
     "output_type": "execute_result"
    }
   ],
   "source": [
    "montycarlo_integration(func,0,1)\n"
   ]
  }
 ],
 "metadata": {
  "kernelspec": {
   "display_name": "Python 3",
   "language": "python",
   "name": "python3"
  },
  "language_info": {
   "codemirror_mode": {
    "name": "ipython",
    "version": 3
   },
   "file_extension": ".py",
   "mimetype": "text/x-python",
   "name": "python",
   "nbconvert_exporter": "python",
   "pygments_lexer": "ipython3",
   "version": "3.8.5"
  }
 },
 "nbformat": 4,
 "nbformat_minor": 4
}
